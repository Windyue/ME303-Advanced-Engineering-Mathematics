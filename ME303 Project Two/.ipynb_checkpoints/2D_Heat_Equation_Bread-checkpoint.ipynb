{
 "cells": [
  {
   "cell_type": "code",
   "execution_count": 25,
   "metadata": {
    "scrolled": false
   },
   "outputs": [
    {
     "name": "stdout",
     "output_type": "stream",
     "text": [
      "[[ 0.00000000e+00  3.14107591e-02  6.27905195e-02 ...  6.27905195e-02\n",
      "   3.14107591e-02  1.22464680e-16]\n",
      " [ 0.00000000e+00  3.93681200e-03  7.86973885e-03 ...  7.86973885e-03\n",
      "   3.93681200e-03  1.53488943e-17]\n",
      " [ 0.00000000e+00  7.81153813e-03  1.56153672e-02 ...  1.56153672e-02\n",
      "   7.81153813e-03  3.04557274e-17]\n",
      " ...\n",
      " [-0.00000000e+00 -7.81153813e-03 -1.56153672e-02 ... -1.56153672e-02\n",
      "  -7.81153813e-03 -3.04557274e-17]\n",
      " [-0.00000000e+00 -3.93681200e-03 -7.86973885e-03 ... -7.86973885e-03\n",
      "  -3.93681200e-03 -1.53488943e-17]\n",
      " [ 0.00000000e+00 -1.97327157e-03 -7.88529869e-03 ... -7.88529869e-03\n",
      "  -1.97327157e-03  0.00000000e+00]]\n"
     ]
    }
   ],
   "source": [
    "import numpy as np\n",
    "import matplotlib.pyplot as plt\n",
    "import random\n",
    "from matplotlib import cm\n",
    "from mpl_toolkits.mplot3d import Axes3D  \n",
    "from matplotlib.ticker import LinearLocator\n",
    "\n",
    "class Bread:\n",
    "\n",
    "    \"\"\"\n",
    "    \n",
    "    The following class are methods used\n",
    "    to model the 2-D Heating PDE about its x and y dimension.\n",
    "\n",
    "    T(x,y,t) - Temperature given radius and time, x <= 1, y <= 1 and t>=0 \n",
    "\n",
    "    PDE: dT/dt = α (d^2T/ dx^2 + d^2T/ dy^2)\n",
    "\n",
    "    \"\"\"\n",
    "\n",
    "    def __init__(self, \n",
    "                 X,\n",
    "                 Y,\n",
    "                 name,\n",
    "                 alpha=1.0,\n",
    "                 ):\n",
    "        \n",
    "        self.X = X\n",
    "        self.Y = Y\n",
    "        self.alpha = alpha\n",
    "        self.T_map = []\n",
    "\n",
    "        # TBD\n",
    "        self.T_map = []\n",
    "        self.dx = 0\n",
    "        self.dy = 0\n",
    "        self.dt = 0\n",
    "        self.cool_time = 0 #s\n",
    "\n",
    "    def solve(self, dx, dy, dt, cool_time=10):\n",
    "        \n",
    "        self.dx = dx\n",
    "        self.dy = dy\n",
    "        self.dt = dt\n",
    "        self.cool_time = cool_time\n",
    "        \n",
    "        x_ = np.linspace(0, self.X, round(self.X/dx)+1)\n",
    "        y_ = np.linspace(0, self.Y, round(self.Y/dy)+1)\n",
    "        X_, Y_ = np.meshgrid(x_ , y_);\n",
    "        \n",
    "        # Multiply\n",
    "        T_cur = np.sin(np.pi*X_) * np.sin(4*np.pi*Y_)\n",
    "        \n",
    "        #Boundary Conditions\n",
    "        BC1 = 0                    # T(x=0,y,t)\n",
    "        BC2 = 0                    # T(x=1,y,t)\n",
    "        BC3 = np.sin(np.pi*x_)      # T(x,y=0,t)\n",
    "        BC4 = np.cos(2*np.pi*x_)-1  # T(x,y=1,t)\n",
    "        \n",
    "        # Index as T[y][x] \n",
    "        T_cur[:][0] = BC1 \n",
    "        T_cur[:][-1] = BC2\n",
    "        T_cur[0][:] = BC3\n",
    "        T_cur[-1][:] = BC4\n",
    "        \n",
    "        T_old = T_cur.copy()\n",
    "        self.T_map.append(T_cur.copy())\n",
    "        \n",
    "        for t in range(round(cool_time/dt)):\n",
    "\n",
    "            for y in range(1,len(y_)-1):\n",
    "                \n",
    "                for x in range(1,len(x_)-1):\n",
    "                    \n",
    "                    # Explicit Time Advancement\n",
    "                    a =  ( T_old[y][x+1] - 2*T_old[y][x] + T_old[y][x-1] ) / (dx*dx)\n",
    "                    b =  ( T_old[y+1][x] - 2*T_old[y][x] + T_old[y-1][x] ) / (dy*dy)\n",
    "\n",
    "                    T_cur[i] = (a * T_old[i]) + (b * T_old[i+1]) + (c * T_old[i-1]);\n",
    "                \n",
    "#                 # Boundary Conditions\n",
    "#                 T_cur[0] = T_cur[1]\n",
    "#                 T_cur[-1] = 100\n",
    "                \n",
    "#                 # Increment for when all values are for r are greater than cooked state\n",
    "#                 if(all(temp > self.cooked_state for temp in T_cur)):\n",
    "#                     time_counter += 1\n",
    "                \n",
    "#             T_old = T_cur\n",
    "#             self.T_map.append(T_cur.copy())\n",
    "#             self.cook_time += dt\n",
    "        \n",
    "#         print(\"Cook Time for {}: {:.2f} seconds\".format(self.name, self.cook_time))\n",
    "#         if is_stable:\n",
    "#             print(\"Analysis was stable for all advancements!\")\n",
    "#         else:\n",
    "#             print(\"Analysis was not completely stable for all advancements.\")\n",
    "        \n",
    "#     def plot(self):\n",
    "        \n",
    "#         # SURFACE PLOT\n",
    "#         fig, ax = plt.subplots(subplot_kw={\"projection\": \"3d\"})\n",
    "#         r_ = np.linspace(0, self.R, round(self.R/self.dr)+1)\n",
    "#         t_ = np.linspace(0, self.cook_time, round(self.cook_time/self.dt)+1)\n",
    "#         r, t = np.meshgrid(r_ , t_);\n",
    "        \n",
    "#         surf = ax.plot_surface(r, t, np.array(self.T_map), cmap=cm.hot,\n",
    "#                                linewidth=0, antialiased=False)\n",
    "        \n",
    "#         fig.colorbar(surf, shrink=0.5, aspect=5)\n",
    "#         ax.set_xlabel('r'); \n",
    "#         ax.set_ylabel('t'); \n",
    "#         ax.set_zlabel('T(r,t)')\n",
    "#         ax.set_title(\" Temperature of {} during Boiling (T=100C)\".format(self.name))\n",
    "#         file_name = 'imgs/{}_3D_plot.jpg'.format(self.name.replace(\" \", \"_\"))\n",
    "#         plt.savefig(file_name, dpi=200)\n",
    "#         #plt.pause(1)\n",
    "        \n",
    "        \n",
    "#         # LINE CHART\n",
    "#         plt.figure(random.randint(0,100))\n",
    "\n",
    "#         _ = np.linspace(0, self.cook_time, 5)\n",
    "#         r_ = np.linspace(0, self.R, round(self.R/self.dr)+1)\n",
    "#         sample_values = []\n",
    "#         time_stamps = []\n",
    "#         for t in range(len(_)):\n",
    "#             idx = round(_[t]/self.dt)\n",
    "#             plt.plot(r_, self.T_map[idx], label='t = {}s'.format(round(_[t])))\n",
    "#         lgd = plt.legend(loc='upper center', bbox_to_anchor=(0.5, -0.175), fancybox=True, shadow=True, ncol=5)\n",
    "#         plt.title(\"Temperature vs Radius for the {}\".format(self.name))\n",
    "#         plt.xlabel(\"Radius(m)\")\n",
    "#         plt.ylabel(\"Temperature(C)\")\n",
    "#         file_name = 'imgs/{}_2D_plot.jpg'.format(self.name.replace(\" \", \"_\"))\n",
    "#         plt.savefig(file_name, dpi=200, bbox_extra_artists=(lgd,), bbox_inches='tight')\n",
    "#         plt.pause(1)\n",
    "\n",
    "\n",
    "def main():\n",
    "\n",
    "    bread = Bread(X=1, Y=1, name=\"Bread\")\n",
    "    bread.solve(dx=0.01, dy=0.01, dt=0.0002, cool_time=10)\n",
    "\n",
    "if __name__ == \"__main__\":\n",
    "     main()"
   ]
  },
  {
   "cell_type": "code",
   "execution_count": 7,
   "metadata": {},
   "outputs": [
    {
     "data": {
      "text/plain": [
       "3.141592653589793"
      ]
     },
     "execution_count": 7,
     "metadata": {},
     "output_type": "execute_result"
    }
   ],
   "source": [
    "np.pi"
   ]
  },
  {
   "cell_type": "code",
   "execution_count": 8,
   "metadata": {},
   "outputs": [
    {
     "data": {
      "text/plain": [
       "1.2246467991473532e-16"
      ]
     },
     "execution_count": 8,
     "metadata": {},
     "output_type": "execute_result"
    }
   ],
   "source": [
    "np.sin(np.pi)"
   ]
  },
  {
   "cell_type": "code",
   "execution_count": null,
   "metadata": {},
   "outputs": [],
   "source": []
  }
 ],
 "metadata": {
  "kernelspec": {
   "display_name": "Python 3",
   "language": "python",
   "name": "python3"
  },
  "language_info": {
   "codemirror_mode": {
    "name": "ipython",
    "version": 3
   },
   "file_extension": ".py",
   "mimetype": "text/x-python",
   "name": "python",
   "nbconvert_exporter": "python",
   "pygments_lexer": "ipython3",
   "version": "3.7.6"
  }
 },
 "nbformat": 4,
 "nbformat_minor": 4
}
