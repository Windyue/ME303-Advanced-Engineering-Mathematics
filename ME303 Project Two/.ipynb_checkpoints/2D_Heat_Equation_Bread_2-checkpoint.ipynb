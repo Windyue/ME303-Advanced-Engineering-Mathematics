{
 "cells": [
  {
   "cell_type": "code",
   "execution_count": null,
   "metadata": {
    "scrolled": false
   },
   "outputs": [
    {
     "name": "stdout",
     "output_type": "stream",
     "text": [
      "68\n"
     ]
    },
    {
     "data": {
      "application/vnd.jupyter.widget-view+json": {
       "model_id": "a50654aac57f43a8b862811a97861402",
       "version_major": 2,
       "version_minor": 0
      },
      "text/plain": [
       "HBox(children=(FloatProgress(value=0.0, max=501.0), HTML(value='')))"
      ]
     },
     "metadata": {},
     "output_type": "display_data"
    },
    {
     "name": "stdout",
     "output_type": "stream",
     "text": [
      "Saving Plot Image at Checkpoint: 0.0 s\n",
      "Saving Plot Image at Checkpoint: 0.001 s\n",
      "Saving Plot Image at Checkpoint: 0.002 s\n",
      "Saving Plot Image at Checkpoint: 0.003 s\n",
      "Saving Plot Image at Checkpoint: 0.004 s\n",
      "Saving Plot Image at Checkpoint: 0.005 s\n",
      "Saving Plot Image at Checkpoint: 0.006 s\n",
      "Saving Plot Image at Checkpoint: 0.007 s\n"
     ]
    }
   ],
   "source": [
    "import numpy as np\n",
    "import matplotlib.pyplot as plt\n",
    "import random\n",
    "from matplotlib import cm\n",
    "from mpl_toolkits.mplot3d import Axes3D  \n",
    "from matplotlib.ticker import LinearLocator\n",
    "from tqdm.notebook import tqdm\n",
    "\n",
    "\n",
    "class Bread:\n",
    "\n",
    "    \"\"\"\n",
    "    \n",
    "    The following class are methods used\n",
    "    to model the 2-D Heating PDE about its x and y dimension.\n",
    "\n",
    "    T(x,y,t) - Temperature given x,y, time where x <= 1, y <= 1 and t>=0 \n",
    "\n",
    "    PDE: dT/dt = α (d^2T/ dx^2 + d^2T/ dy^2)\n",
    "\n",
    "    \"\"\"\n",
    "\n",
    "    def __init__(self, \n",
    "                 X,\n",
    "                 Y,\n",
    "                 name,\n",
    "                 alpha=1.0,\n",
    "                 ):\n",
    "        \n",
    "        self.X = X\n",
    "        self.Y = Y\n",
    "        self.alpha = alpha\n",
    "        self.name = name\n",
    "\n",
    "        # TBD\n",
    "        self.T_map = []\n",
    "        self.dx = 0\n",
    "        self.dy = 0\n",
    "        self.dt = 0\n",
    "        self.cool_time = 0 #s\n",
    "\n",
    "    def solve(self, dx, dy, dt, save_every, cool_time=10):\n",
    "        \n",
    "        self.dx = dx\n",
    "        self.dy = dy\n",
    "        self.dt = dt\n",
    "        self.cool_time = cool_time\n",
    "        \n",
    "        x_ = np.linspace(0, self.X, round(self.X/dx)+1)\n",
    "        y_ = np.linspace(0, self.Y, round(self.Y/dy)+1)\n",
    "        X_, Y_ = np.meshgrid(x_ , y_);\n",
    "        \n",
    "        # Multiply\n",
    "        T_cur = np.sin(4*np.pi*X_) * np.cos(4*np.pi*Y_)\n",
    "        \n",
    "        # Dirichlet Boundary Conditions\n",
    "        BC1 = 1   # T(x,y=0,t)\n",
    "        BC2 = -1  # T(x,y=1,t)\n",
    "        \n",
    "        # Index as T[y][x] \n",
    "        T_cur[0][:] = BC1\n",
    "        T_cur[-1][:] = BC2\n",
    "        \n",
    "        T_old = T_cur.copy()\n",
    "            \n",
    "        for t in tqdm(range(round(cool_time/dt)+1)):\n",
    "\n",
    "            for y in range(1,len(y_)-1):\n",
    "                \n",
    "                for x in range(1,len(x_)-1):\n",
    "\n",
    "                    # Explicit Time Advancement\n",
    "                    a =  ( T_old[y][x+1] - 2*T_old[y][x] + T_old[y][x-1] ) / (dx*dx)\n",
    "                    b =  ( T_old[y+1][x] - 2*T_old[y][x] + T_old[y-1][x] ) / (dy*dy)\n",
    "\n",
    "                    T_cur[y][x] = (dt*(a+b)) + T_old[y][x];\n",
    "                    \n",
    "                    # Neuman Boundary Conditions\n",
    "                    \n",
    "                    # x = 0 -> T[y][x+1] = T[y][x-1]\n",
    "                    c =  ( 2*T_old[y][1] - 2*T_old[y][0]) / (dx*dx)\n",
    "                    T_cur[y][x] = (dt*(c+b)) + T_old[y][0];\n",
    "                    \n",
    "                    # x = 1 -> T[y][x+1] = 4*dx + T[y][x-1]\n",
    "                    d = ( 2*T_old[y][-2] - 2*T_old[y][-1] + 4*dx ) / (dx*dx)\n",
    "                    T_cur[y][-1] = (dt*(d+b)) + T_old[y][-1];\n",
    "                \n",
    "            T_old = T_cur\n",
    "\n",
    "            # Save Plot \n",
    "            if (t % round(save_every/dt) == 0):\n",
    "                \n",
    "                print(\"Saving Plot Image at Checkpoint: {} s\".format(t* dt))\n",
    "                self.save_plot(X_, Y_, T_cur, t)\n",
    "\n",
    "        print(\"Time Elapsed: {} s\".format(self.cool_time))       \n",
    "    \n",
    "    def save_plot(self, X_, Y_, T_cur, t):\n",
    "        \n",
    "        fig, ax = plt.subplots(subplot_kw={\"projection\": \"3d\"})\n",
    "        surf = ax.plot_surface(X_, Y_, T_cur, cmap=cm.hot,\n",
    "                               linewidth=0, antialiased=False)\n",
    "\n",
    "        fig.colorbar(surf, shrink=0.5, aspect=5)\n",
    "        ax.set_xlabel('x'); \n",
    "        ax.set_ylabel('y');\n",
    "        ax.set_zticklabels([])\n",
    "        ax.view_init(azim=270, elev=90)         \n",
    "        ax.set_title(\" Heat Distribution of {} during T = {:.4f}s\".format(self.name, t*self.dt))\n",
    "        file_name = 'imgs/bread_2/{}_{}_heat_plot.jpg'.format(self.name.replace(\" \", \"_\"), str(t))\n",
    "        plt.savefig(file_name, dpi=200)\n",
    "        \n",
    "        \n",
    "def main():\n",
    "\n",
    "    bread = Bread(X=1, Y=1, name=\"Bread\")\n",
    "    bread.solve(dx=0.015, dy=0.015, dt=0.00002, save_every=.001, cool_time=0.01)\n",
    "\n",
    "if __name__ == \"__main__\":\n",
    "     main()"
   ]
  },
  {
   "cell_type": "code",
   "execution_count": null,
   "metadata": {},
   "outputs": [],
   "source": [
    "T"
   ]
  }
 ],
 "metadata": {
  "kernelspec": {
   "display_name": "Python 3",
   "language": "python",
   "name": "python3"
  },
  "language_info": {
   "codemirror_mode": {
    "name": "ipython",
    "version": 3
   },
   "file_extension": ".py",
   "mimetype": "text/x-python",
   "name": "python",
   "nbconvert_exporter": "python",
   "pygments_lexer": "ipython3",
   "version": "3.7.6"
  }
 },
 "nbformat": 4,
 "nbformat_minor": 4
}
